{
  "nbformat": 4,
  "nbformat_minor": 0,
  "metadata": {
    "colab": {
      "provenance": []
    },
    "kernelspec": {
      "name": "python3",
      "display_name": "Python 3"
    },
    "language_info": {
      "name": "python"
    }
  },
  "cells": [
    {
      "cell_type": "code",
      "execution_count": 3,
      "metadata": {
        "colab": {
          "base_uri": "https://localhost:8080/"
        },
        "id": "erWeP9nQZZe8",
        "outputId": "dc554ab6-11d6-48d3-c8a5-a06086791f50"
      },
      "outputs": [
        {
          "output_type": "execute_result",
          "data": {
            "text/plain": [
              "[1, 2, 3, 4]"
            ]
          },
          "metadata": {},
          "execution_count": 3
        }
      ],
      "source": [
        "a = [1, 2, 3]\n",
        "b = a\n",
        "a.append(4)\n",
        "b"
      ]
    },
    {
      "cell_type": "code",
      "source": [
        "class Gizmo:\n",
        "    def __init__(self):\n",
        "        print(f'Gizmo id: {id(self)}')\n",
        "x = Gizmo()"
      ],
      "metadata": {
        "colab": {
          "base_uri": "https://localhost:8080/"
        },
        "id": "OVLAwM9aZnt6",
        "outputId": "83cbd1b1-2fb8-4fec-9a95-b916993f44e1"
      },
      "execution_count": 4,
      "outputs": [
        {
          "output_type": "stream",
          "name": "stdout",
          "text": [
            "Gizmo id: 138898572310992\n"
          ]
        }
      ]
    },
    {
      "cell_type": "code",
      "source": [
        "y = Gizmo() * 10\n",
        "#곱셈을 시도하기 전에 두 번째 Gizmo 객체가 생성되었음"
      ],
      "metadata": {
        "colab": {
          "base_uri": "https://localhost:8080/",
          "height": 162
        },
        "id": "kV03E4M4Z1rz",
        "outputId": "1a6c7ebd-a547-451e-f20a-df7ea3ce6160"
      },
      "execution_count": 6,
      "outputs": [
        {
          "output_type": "stream",
          "name": "stdout",
          "text": [
            "Gizmo id: 138898572311520\n"
          ]
        },
        {
          "output_type": "error",
          "ename": "TypeError",
          "evalue": "unsupported operand type(s) for *: 'Gizmo' and 'int'",
          "traceback": [
            "\u001b[0;31m---------------------------------------------------------------------------\u001b[0m",
            "\u001b[0;31mTypeError\u001b[0m                                 Traceback (most recent call last)",
            "\u001b[0;32m<ipython-input-6-2beac7b9470d>\u001b[0m in \u001b[0;36m<cell line: 1>\u001b[0;34m()\u001b[0m\n\u001b[0;32m----> 1\u001b[0;31m \u001b[0my\u001b[0m \u001b[0;34m=\u001b[0m \u001b[0mGizmo\u001b[0m\u001b[0;34m(\u001b[0m\u001b[0;34m)\u001b[0m \u001b[0;34m*\u001b[0m \u001b[0;36m10\u001b[0m\u001b[0;34m\u001b[0m\u001b[0;34m\u001b[0m\u001b[0m\n\u001b[0m",
            "\u001b[0;31mTypeError\u001b[0m: unsupported operand type(s) for *: 'Gizmo' and 'int'"
          ]
        }
      ]
    },
    {
      "cell_type": "code",
      "source": [
        "dir()"
      ],
      "metadata": {
        "colab": {
          "base_uri": "https://localhost:8080/"
        },
        "id": "ys4O3V8wZ6Cq",
        "outputId": "55227811-ba84-44cd-cf0d-47c38bdcddda"
      },
      "execution_count": 7,
      "outputs": [
        {
          "output_type": "execute_result",
          "data": {
            "text/plain": [
              "['Gizmo',\n",
              " 'In',\n",
              " 'Out',\n",
              " '_',\n",
              " '_3',\n",
              " '__',\n",
              " '___',\n",
              " '__builtin__',\n",
              " '__builtins__',\n",
              " '__doc__',\n",
              " '__loader__',\n",
              " '__name__',\n",
              " '__package__',\n",
              " '__spec__',\n",
              " '_dh',\n",
              " '_i',\n",
              " '_i1',\n",
              " '_i2',\n",
              " '_i3',\n",
              " '_i4',\n",
              " '_i5',\n",
              " '_i6',\n",
              " '_i7',\n",
              " '_ih',\n",
              " '_ii',\n",
              " '_iii',\n",
              " '_oh',\n",
              " 'a',\n",
              " 'b',\n",
              " 'exit',\n",
              " 'get_ipython',\n",
              " 'quit',\n",
              " 'x']"
            ]
          },
          "metadata": {},
          "execution_count": 7
        }
      ]
    },
    {
      "cell_type": "code",
      "source": [
        "charles = {'name' : 'Charles L. Dodgson', 'born':1832}\n",
        "lewis = charles"
      ],
      "metadata": {
        "id": "PRk0lk3CaIBT"
      },
      "execution_count": 8,
      "outputs": []
    },
    {
      "cell_type": "code",
      "source": [
        "lewis is charles"
      ],
      "metadata": {
        "colab": {
          "base_uri": "https://localhost:8080/"
        },
        "id": "B7lyylKUaih0",
        "outputId": "6f73c7ea-572d-4e16-de05-dfd9062758c7"
      },
      "execution_count": 9,
      "outputs": [
        {
          "output_type": "execute_result",
          "data": {
            "text/plain": [
              "True"
            ]
          },
          "metadata": {},
          "execution_count": 9
        }
      ]
    },
    {
      "cell_type": "code",
      "source": [
        "id(charles), id(lewis)"
      ],
      "metadata": {
        "colab": {
          "base_uri": "https://localhost:8080/"
        },
        "id": "gLQPZoFlaknJ",
        "outputId": "bcc5e24d-3498-490f-ccc1-0b063d2f921e"
      },
      "execution_count": 10,
      "outputs": [
        {
          "output_type": "execute_result",
          "data": {
            "text/plain": [
              "(138898569448704, 138898569448704)"
            ]
          },
          "metadata": {},
          "execution_count": 10
        }
      ]
    },
    {
      "cell_type": "code",
      "source": [
        "lewis['balance'] = 950\n",
        "charles"
      ],
      "metadata": {
        "colab": {
          "base_uri": "https://localhost:8080/"
        },
        "id": "f5WzJDoeancX",
        "outputId": "63f4627a-902c-4afb-8fb3-ba66a59d1841"
      },
      "execution_count": 11,
      "outputs": [
        {
          "output_type": "execute_result",
          "data": {
            "text/plain": [
              "{'name': 'Charles L. Dodgson', 'born': 1832, 'balance': 950}"
            ]
          },
          "metadata": {},
          "execution_count": 11
        }
      ]
    },
    {
      "cell_type": "code",
      "source": [
        "alex = {'name' : 'Charles L. Dodgson', 'born':1832, 'balance':950}\n",
        "alex == charles"
      ],
      "metadata": {
        "colab": {
          "base_uri": "https://localhost:8080/"
        },
        "id": "a8JFUBOmasr6",
        "outputId": "e49e6521-8a54-41b1-c0af-f0aa2974c9d2"
      },
      "execution_count": 12,
      "outputs": [
        {
          "output_type": "execute_result",
          "data": {
            "text/plain": [
              "True"
            ]
          },
          "metadata": {},
          "execution_count": 12
        }
      ]
    },
    {
      "cell_type": "code",
      "source": [
        "alex is charles"
      ],
      "metadata": {
        "colab": {
          "base_uri": "https://localhost:8080/"
        },
        "id": "HLnm58VjaxD4",
        "outputId": "1c334636-cdf7-4577-9d2f-84da5b13a96a"
      },
      "execution_count": 13,
      "outputs": [
        {
          "output_type": "execute_result",
          "data": {
            "text/plain": [
              "False"
            ]
          },
          "metadata": {},
          "execution_count": 13
        }
      ]
    },
    {
      "cell_type": "code",
      "source": [
        "t1 = (1,2, [30,40])\n",
        "t2 = (1,2, [30,40])\n",
        "t1 == t2, t1 is t2"
      ],
      "metadata": {
        "colab": {
          "base_uri": "https://localhost:8080/"
        },
        "id": "bJ_kGw2cazcD",
        "outputId": "4f217c2c-195c-47c9-e30e-a55dcc6c6846"
      },
      "execution_count": 14,
      "outputs": [
        {
          "output_type": "execute_result",
          "data": {
            "text/plain": [
              "(True, False)"
            ]
          },
          "metadata": {},
          "execution_count": 14
        }
      ]
    },
    {
      "cell_type": "code",
      "source": [
        "id(t1[-1])"
      ],
      "metadata": {
        "colab": {
          "base_uri": "https://localhost:8080/"
        },
        "id": "QG3ncxEAbDXE",
        "outputId": "56335f6e-b3e0-4c40-c3c8-523698ad0870"
      },
      "execution_count": 15,
      "outputs": [
        {
          "output_type": "execute_result",
          "data": {
            "text/plain": [
              "138898569201600"
            ]
          },
          "metadata": {},
          "execution_count": 15
        }
      ]
    },
    {
      "cell_type": "code",
      "source": [
        "t1[-1].append(99)\n",
        "t1, id(t1[-1])"
      ],
      "metadata": {
        "colab": {
          "base_uri": "https://localhost:8080/"
        },
        "id": "cgKryvFnbHO6",
        "outputId": "a8f6d0d1-0cc2-4e87-ac57-68338d8b8a8d"
      },
      "execution_count": 16,
      "outputs": [
        {
          "output_type": "execute_result",
          "data": {
            "text/plain": [
              "((1, 2, [30, 40, 99]), 138898569201600)"
            ]
          },
          "metadata": {},
          "execution_count": 16
        }
      ]
    },
    {
      "cell_type": "code",
      "source": [
        "t1 == t2"
      ],
      "metadata": {
        "colab": {
          "base_uri": "https://localhost:8080/"
        },
        "id": "TmRTEq29bNMr",
        "outputId": "ba5412d1-0691-4fce-f523-ab66679f9737"
      },
      "execution_count": 17,
      "outputs": [
        {
          "output_type": "execute_result",
          "data": {
            "text/plain": [
              "False"
            ]
          },
          "metadata": {},
          "execution_count": 17
        }
      ]
    },
    {
      "cell_type": "code",
      "source": [
        "l1 = [3, [66,55,44], (7,8,9)]\n",
        "l2 = list(l1)"
      ],
      "metadata": {
        "id": "8SXWZqB2bOGN"
      },
      "execution_count": 18,
      "outputs": []
    },
    {
      "cell_type": "code",
      "source": [
        "l1.append((100))"
      ],
      "metadata": {
        "id": "bBhmd9krbXuI"
      },
      "execution_count": 19,
      "outputs": []
    },
    {
      "cell_type": "code",
      "source": [
        "l1[1].remove((55))\n",
        "print('l1:', l1)\n",
        "print('l2:', l2)"
      ],
      "metadata": {
        "colab": {
          "base_uri": "https://localhost:8080/"
        },
        "id": "zuJ-LIuybZ0F",
        "outputId": "d1b4b1fd-1070-4929-c5d2-cf9500d3a5be"
      },
      "execution_count": 20,
      "outputs": [
        {
          "output_type": "stream",
          "name": "stdout",
          "text": [
            "l1: [3, [66, 44], (7, 8, 9), 100]\n",
            "l2: [3, [66, 44], (7, 8, 9)]\n"
          ]
        }
      ]
    },
    {
      "cell_type": "code",
      "source": [
        "l2[1] += [33,22]\n",
        "l2[2] += (10,11)\n",
        "print('l1:', l1)\n",
        "print('l2:', l2)"
      ],
      "metadata": {
        "colab": {
          "base_uri": "https://localhost:8080/"
        },
        "id": "O8X9SVlFbl-1",
        "outputId": "46408a07-cbaf-4d2c-8b68-2d4df767d029"
      },
      "execution_count": 21,
      "outputs": [
        {
          "output_type": "stream",
          "name": "stdout",
          "text": [
            "l1: [3, [66, 44, 33, 22], (7, 8, 9), 100]\n",
            "l2: [3, [66, 44, 33, 22], (7, 8, 9, 10, 11)]\n"
          ]
        }
      ]
    },
    {
      "cell_type": "code",
      "source": [
        "class Bus:\n",
        "    def __init__(self, passengers=None):\n",
        "        if passengers is None:\n",
        "            self.passengers = []\n",
        "        else:\n",
        "            self.passengers = list(passengers)\n",
        "\n",
        "    def pick(self, name):\n",
        "        self.passengers.append(name)\n",
        "\n",
        "    def drop(self, name):\n",
        "        self.passengers.remove(name)"
      ],
      "metadata": {
        "id": "nZ2E-oMlboxj"
      },
      "execution_count": 22,
      "outputs": []
    },
    {
      "cell_type": "code",
      "source": [
        "import copy\n",
        "bus1 = Bus(['Alice', 'Bill', 'Claire', 'David'])\n",
        "bus2 = copy.copy(bus1)\n",
        "bus3 = copy.deepcopy(bus1)\n",
        "id(bus1), id(bus2), id(bus3)"
      ],
      "metadata": {
        "colab": {
          "base_uri": "https://localhost:8080/"
        },
        "id": "wHDRyPvSb4ht",
        "outputId": "1b445253-ed6c-42c4-cd8a-86a477a2cecb"
      },
      "execution_count": 23,
      "outputs": [
        {
          "output_type": "execute_result",
          "data": {
            "text/plain": [
              "(138898575165712, 138898575172000, 138898575164944)"
            ]
          },
          "metadata": {},
          "execution_count": 23
        }
      ]
    },
    {
      "cell_type": "code",
      "source": [
        "bus1.drop('Bill')\n",
        "bus1.passengers, bus2.passengers, bus3.passengers"
      ],
      "metadata": {
        "colab": {
          "base_uri": "https://localhost:8080/"
        },
        "id": "SUEWywTRb7B8",
        "outputId": "f8422571-c706-4b05-e433-8787c9651e1e"
      },
      "execution_count": 24,
      "outputs": [
        {
          "output_type": "execute_result",
          "data": {
            "text/plain": [
              "(['Alice', 'Claire', 'David'],\n",
              " ['Alice', 'Claire', 'David'],\n",
              " ['Alice', 'Bill', 'Claire', 'David'])"
            ]
          },
          "metadata": {},
          "execution_count": 24
        }
      ]
    },
    {
      "cell_type": "code",
      "source": [
        "id(bus1.passengers), id(bus2.passengers), id(bus3.passengers)"
      ],
      "metadata": {
        "colab": {
          "base_uri": "https://localhost:8080/"
        },
        "id": "xJq7kDvRcCNn",
        "outputId": "7f85c570-c911-43dd-bca2-ef6ebcd5e2c8"
      },
      "execution_count": 25,
      "outputs": [
        {
          "output_type": "execute_result",
          "data": {
            "text/plain": [
              "(138898569425024, 138898569425024, 138898569639424)"
            ]
          },
          "metadata": {},
          "execution_count": 25
        }
      ]
    },
    {
      "cell_type": "code",
      "source": [
        "a = [10, 20]\n",
        "b = [a, 30]\n",
        "a.append(b)\n",
        "a"
      ],
      "metadata": {
        "colab": {
          "base_uri": "https://localhost:8080/"
        },
        "id": "lxMCeuK4cD3N",
        "outputId": "a9c31e26-3681-400e-daba-7f23146d8b0f"
      },
      "execution_count": 26,
      "outputs": [
        {
          "output_type": "execute_result",
          "data": {
            "text/plain": [
              "[10, 20, [[...], 30]]"
            ]
          },
          "metadata": {},
          "execution_count": 26
        }
      ]
    },
    {
      "cell_type": "code",
      "source": [
        "c = copy.deepcopy(a)\n",
        "c"
      ],
      "metadata": {
        "colab": {
          "base_uri": "https://localhost:8080/"
        },
        "id": "cKyIrnhycGqh",
        "outputId": "15e50dbf-906b-43d8-c062-02b7b977b287"
      },
      "execution_count": 27,
      "outputs": [
        {
          "output_type": "execute_result",
          "data": {
            "text/plain": [
              "[10, 20, [[...], 30]]"
            ]
          },
          "metadata": {},
          "execution_count": 27
        }
      ]
    },
    {
      "cell_type": "code",
      "source": [
        "def f(a, b):\n",
        "    a += b\n",
        "    return a\n",
        "x = 1\n",
        "y = 2\n",
        "f(x,y), (x,y)"
      ],
      "metadata": {
        "colab": {
          "base_uri": "https://localhost:8080/"
        },
        "id": "87hUIuDvcHr_",
        "outputId": "568288ca-4a14-46b2-866a-d35f3518fadc"
      },
      "execution_count": 30,
      "outputs": [
        {
          "output_type": "execute_result",
          "data": {
            "text/plain": [
              "(3, (1, 2))"
            ]
          },
          "metadata": {},
          "execution_count": 30
        }
      ]
    },
    {
      "cell_type": "code",
      "source": [
        "a = [1,2]\n",
        "b = [3,4]\n",
        "f(a,b), (a,b)"
      ],
      "metadata": {
        "colab": {
          "base_uri": "https://localhost:8080/"
        },
        "id": "-oRLRa8WcWPd",
        "outputId": "1fc6b269-9c9a-48a6-b382-55e16d076a29"
      },
      "execution_count": 31,
      "outputs": [
        {
          "output_type": "execute_result",
          "data": {
            "text/plain": [
              "([1, 2, 3, 4], ([1, 2, 3, 4], [3, 4]))"
            ]
          },
          "metadata": {},
          "execution_count": 31
        }
      ]
    },
    {
      "cell_type": "code",
      "source": [
        "t = (10,20)\n",
        "u = (30,40)\n",
        "f(t,u), (t,u)"
      ],
      "metadata": {
        "colab": {
          "base_uri": "https://localhost:8080/"
        },
        "id": "9BhNWYkscjDu",
        "outputId": "8321f91e-2e20-4ec0-d4ff-e9b45fea3f8c"
      },
      "execution_count": 32,
      "outputs": [
        {
          "output_type": "execute_result",
          "data": {
            "text/plain": [
              "((10, 20, 30, 40), ((10, 20), (30, 40)))"
            ]
          },
          "metadata": {},
          "execution_count": 32
        }
      ]
    },
    {
      "cell_type": "code",
      "source": [
        "class HauntedBus:\n",
        "    def __init__(self, passengers=[]):\n",
        "        self.passengers = passengers\n",
        "\n",
        "    def pick(self, name):\n",
        "        self.passengers.append(name)\n",
        "\n",
        "    def drop(self, name):\n",
        "        self.passengers.remove(name)"
      ],
      "metadata": {
        "id": "ED_9KbN5cmPd"
      },
      "execution_count": 33,
      "outputs": []
    },
    {
      "cell_type": "code",
      "source": [
        "bus1 = HauntedBus(['Alice', 'Bill'])\n",
        "bus1.passengers"
      ],
      "metadata": {
        "colab": {
          "base_uri": "https://localhost:8080/"
        },
        "id": "ixINtVNpcuB_",
        "outputId": "65d3f741-8e83-4ee0-b1d8-347f1744ecf6"
      },
      "execution_count": 34,
      "outputs": [
        {
          "output_type": "execute_result",
          "data": {
            "text/plain": [
              "['Alice', 'Bill']"
            ]
          },
          "metadata": {},
          "execution_count": 34
        }
      ]
    },
    {
      "cell_type": "code",
      "source": [
        "bus1.pick('Charlie')\n",
        "bus1.drop('Alice')\n",
        "bus1.passengers"
      ],
      "metadata": {
        "colab": {
          "base_uri": "https://localhost:8080/"
        },
        "id": "FvFbg-ACcxys",
        "outputId": "f944d14c-490b-439b-f4c7-01bb459e67e4"
      },
      "execution_count": 35,
      "outputs": [
        {
          "output_type": "execute_result",
          "data": {
            "text/plain": [
              "['Bill', 'Charlie']"
            ]
          },
          "metadata": {},
          "execution_count": 35
        }
      ]
    },
    {
      "cell_type": "code",
      "source": [
        "bus2 = HauntedBus()\n",
        "bus2.pick('Carrie')\n",
        "bus2.passengers"
      ],
      "metadata": {
        "colab": {
          "base_uri": "https://localhost:8080/"
        },
        "id": "RE3ZBlhFczon",
        "outputId": "cd9a88a0-0b44-4670-c7c3-d16401821216"
      },
      "execution_count": 36,
      "outputs": [
        {
          "output_type": "execute_result",
          "data": {
            "text/plain": [
              "['Carrie']"
            ]
          },
          "metadata": {},
          "execution_count": 36
        }
      ]
    },
    {
      "cell_type": "code",
      "source": [
        "bus3 = HauntedBus()\n",
        "bus3.passengers"
      ],
      "metadata": {
        "colab": {
          "base_uri": "https://localhost:8080/"
        },
        "id": "CRq7jFD8c1ol",
        "outputId": "2147bd49-b0a5-4909-87f6-8969458c6f6a"
      },
      "execution_count": 37,
      "outputs": [
        {
          "output_type": "execute_result",
          "data": {
            "text/plain": [
              "['Carrie']"
            ]
          },
          "metadata": {},
          "execution_count": 37
        }
      ]
    },
    {
      "cell_type": "code",
      "source": [
        "bus3.pick('Dave')\n",
        "bus2.passengers"
      ],
      "metadata": {
        "colab": {
          "base_uri": "https://localhost:8080/"
        },
        "id": "9w7P8YFRc3eZ",
        "outputId": "80a8298c-fd5c-498f-b7f3-eff76e2a6574"
      },
      "execution_count": 38,
      "outputs": [
        {
          "output_type": "execute_result",
          "data": {
            "text/plain": [
              "['Carrie', 'Dave']"
            ]
          },
          "metadata": {},
          "execution_count": 38
        }
      ]
    },
    {
      "cell_type": "code",
      "source": [
        "bus2.passengers is bus3.passengers"
      ],
      "metadata": {
        "colab": {
          "base_uri": "https://localhost:8080/"
        },
        "id": "-D5Fp_Gac6di",
        "outputId": "bb8693bb-a276-44d5-ca42-66d7d2116e80"
      },
      "execution_count": 39,
      "outputs": [
        {
          "output_type": "execute_result",
          "data": {
            "text/plain": [
              "True"
            ]
          },
          "metadata": {},
          "execution_count": 39
        }
      ]
    },
    {
      "cell_type": "code",
      "source": [
        "bus1.passengers"
      ],
      "metadata": {
        "colab": {
          "base_uri": "https://localhost:8080/"
        },
        "id": "wMWEk1R3c9Ym",
        "outputId": "8899a775-279d-4bae-ab18-a35cfee16531"
      },
      "execution_count": 40,
      "outputs": [
        {
          "output_type": "execute_result",
          "data": {
            "text/plain": [
              "['Bill', 'Charlie']"
            ]
          },
          "metadata": {},
          "execution_count": 40
        }
      ]
    },
    {
      "cell_type": "code",
      "source": [
        "class TwilightBus:\n",
        "    def __init__(self, passengers=None):\n",
        "        if passengers is None:\n",
        "            self.passengers = []\n",
        "        else:\n",
        "            self.passengers = passengers\n",
        "\n",
        "    def pick(self, name):\n",
        "        self.passengers.append(name)\n",
        "\n",
        "    def drop(self, name):\n",
        "        self.passengers.remove(name)"
      ],
      "metadata": {
        "id": "IE8LQvdJc_fX"
      },
      "execution_count": 41,
      "outputs": []
    },
    {
      "cell_type": "code",
      "source": [
        "basketball_team = ['Sue', 'Tina', 'Maya', 'Diana', 'Pat']\n",
        "bus = TwilightBus(basketball_team)\n",
        "bus.drop('Tina')\n",
        "bus.drop('Pat')\n",
        "basketball_team"
      ],
      "metadata": {
        "colab": {
          "base_uri": "https://localhost:8080/"
        },
        "id": "Gh7acbTvdGMl",
        "outputId": "adaa9f5e-2155-4a0d-c3f7-be3fec0a3072"
      },
      "execution_count": 42,
      "outputs": [
        {
          "output_type": "execute_result",
          "data": {
            "text/plain": [
              "['Sue', 'Maya', 'Diana']"
            ]
          },
          "metadata": {},
          "execution_count": 42
        }
      ]
    },
    {
      "cell_type": "code",
      "source": [
        "class TwilightBus:\n",
        "    def __init__(self, passengers=None):\n",
        "        if passengers is None:\n",
        "            self.passengers = []\n",
        "        else:\n",
        "            self.passengers = list(passengers)\n",
        "\n",
        "    def pick(self, name):\n",
        "        self.passengers.append(name)\n",
        "\n",
        "    def drop(self, name):\n",
        "        self.passengers.remove(name)"
      ],
      "metadata": {
        "id": "Un12K-JtdKEI"
      },
      "execution_count": 43,
      "outputs": []
    },
    {
      "cell_type": "code",
      "source": [
        "basketball_team = ['Sue', 'Tina', 'Maya', 'Diana', 'Pat']\n",
        "bus = TwilightBus(basketball_team)\n",
        "bus.drop('Tina')\n",
        "bus.drop('Pat')\n",
        "basketball_team"
      ],
      "metadata": {
        "colab": {
          "base_uri": "https://localhost:8080/"
        },
        "id": "8Gtr319TdS_U",
        "outputId": "3d669f16-223a-4e23-f149-e7b3cefd73a9"
      },
      "execution_count": 44,
      "outputs": [
        {
          "output_type": "execute_result",
          "data": {
            "text/plain": [
              "['Sue', 'Tina', 'Maya', 'Diana', 'Pat']"
            ]
          },
          "metadata": {},
          "execution_count": 44
        }
      ]
    },
    {
      "cell_type": "code",
      "source": [
        "import weakref"
      ],
      "metadata": {
        "id": "SBc2mHETdUXH"
      },
      "execution_count": 45,
      "outputs": []
    },
    {
      "cell_type": "code",
      "source": [
        "s1 = {1,2,3}\n",
        "s2 = s1\n",
        "def bye():\n",
        "    print('Gone with the wind...')\n",
        "ender = weakref.finalize(s1, bye)\n",
        "ender.alive"
      ],
      "metadata": {
        "colab": {
          "base_uri": "https://localhost:8080/"
        },
        "id": "o-Fe7n6qdbIW",
        "outputId": "139f216b-67eb-483f-e135-aeb54721c95a"
      },
      "execution_count": 46,
      "outputs": [
        {
          "output_type": "execute_result",
          "data": {
            "text/plain": [
              "True"
            ]
          },
          "metadata": {},
          "execution_count": 46
        }
      ]
    },
    {
      "cell_type": "code",
      "source": [
        "del s1\n",
        "ender.alive"
      ],
      "metadata": {
        "colab": {
          "base_uri": "https://localhost:8080/"
        },
        "id": "mO0PAGWHdeER",
        "outputId": "cd62a156-1c21-4cbf-f61c-49829dc659e6"
      },
      "execution_count": 47,
      "outputs": [
        {
          "output_type": "execute_result",
          "data": {
            "text/plain": [
              "True"
            ]
          },
          "metadata": {},
          "execution_count": 47
        }
      ]
    },
    {
      "cell_type": "code",
      "source": [
        "s2 = 'spam'"
      ],
      "metadata": {
        "id": "TP7fNkIZdhwf"
      },
      "execution_count": 50,
      "outputs": []
    },
    {
      "cell_type": "code",
      "source": [
        "ender.alive"
      ],
      "metadata": {
        "colab": {
          "base_uri": "https://localhost:8080/"
        },
        "id": "pyE3AJh_dkog",
        "outputId": "dfbf0140-5417-484a-e29a-8ddd37bfdfa5"
      },
      "execution_count": 49,
      "outputs": [
        {
          "output_type": "execute_result",
          "data": {
            "text/plain": [
              "False"
            ]
          },
          "metadata": {},
          "execution_count": 49
        }
      ]
    },
    {
      "cell_type": "code",
      "source": [],
      "metadata": {
        "id": "KIoDJqphdnJW"
      },
      "execution_count": null,
      "outputs": []
    }
  ]
}